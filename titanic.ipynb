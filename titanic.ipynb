{
 "cells": [
  {
   "cell_type": "markdown",
   "metadata": {},
   "source": [
    "# Predicting survivors of Titanic using SVM Algorithm"
   ]
  },
  {
   "cell_type": "markdown",
   "metadata": {},
   "source": [
    "### Importing Libraries"
   ]
  },
  {
   "cell_type": "code",
   "execution_count": null,
   "metadata": {},
   "outputs": [],
   "source": [
    "%matplotlib notebook\n",
    "import numpy as np\n",
    "import pandas as pd\n",
    "\n",
    "# for creating plots\n",
    "import matplotlib.pyplot as plt\n",
    "\n",
    "# for splitting of data sets\n",
    "from sklearn.model_selection import train_test_split\n",
    "\n",
    "# importing SVM from scikit learn\n",
    "from sklearn.svm import SVC\n",
    "\n",
    "# Visualization tools from adspy_shared_utilities\n",
    "from adspy_shared_utilities import plot_labelled_scatter\n",
    "from adspy_shared_utilities import plot_class_regions_for_classifier\n",
    "from adspy_shared_utilities import plot_class_regions_for_classifier_subplot"
   ]
  },
  {
   "cell_type": "markdown",
   "metadata": {},
   "source": [
    "### Reading Titanic Data Set"
   ]
  },
  {
   "cell_type": "code",
   "execution_count": null,
   "metadata": {},
   "outputs": [],
   "source": [
    "# importing data file in csv format\n",
    "cl = pd.read_csv('titanic.csv', header=0)\n",
    "\n",
    "# show first 5 rows of the data set \n",
    "cl.head()"
   ]
  },
  {
   "cell_type": "code",
   "execution_count": null,
   "metadata": {},
   "outputs": [],
   "source": [
    "# descriptive statistics regarding the data\n",
    "cl.describe()"
   ]
  },
  {
   "cell_type": "markdown",
   "metadata": {},
   "source": [
    "### Training and Test Data Split"
   ]
  },
  {
   "cell_type": "code",
   "execution_count": null,
   "metadata": {},
   "outputs": [],
   "source": [
    "# filling missing values with the median\n",
    "cl['age'] = cl['age'].fillna(cl['age'].median())\n",
    "cl['fare'] = cl['fare'].fillna(cl['fare'].median())\n",
    "cl['embarked'] = cl['embarked'].fillna(cl['embarked'].median())\n",
    "\n",
    "# Sex and Age as independent variable\n",
    "X = cl[['embarked', 'age']].as_matrix()\n",
    "# dependent variable\n",
    "y = cl['survived']\n",
    "\n",
    "#Splitting of data to training and testing\n",
    "X_train, X_test, y_train, y_test = train_test_split(X, y, random_state = 0)"
   ]
  },
  {
   "cell_type": "markdown",
   "metadata": {},
   "source": [
    "### Applying Linear SVM"
   ]
  },
  {
   "cell_type": "code",
   "execution_count": null,
   "metadata": {},
   "outputs": [],
   "source": [
    "#Applying Linear SVM with C = 1.0 to training data\n",
    "clf = SVC(kernel = 'linear', C=1.0).fit(X_train, y_train)"
   ]
  },
  {
   "cell_type": "code",
   "execution_count": null,
   "metadata": {
    "scrolled": false
   },
   "outputs": [],
   "source": [
    "plot_class_regions_for_classifier(clf, X_test, y_test, None, None,'Titanic test data')\n",
    "\n",
    "print('Accuracy of Linear SVC classifier on training set: {:.2f}'\n",
    "     .format(clf.score(X_train, y_train)))\n",
    "print('Accuracy of Linear SVC classifier on test set: {:.2f}'\n",
    "     .format(clf.score(X_test, y_test)))"
   ]
  },
  {
   "cell_type": "markdown",
   "metadata": {},
   "source": [
    "### Linear SVC with varying C"
   ]
  },
  {
   "cell_type": "code",
   "execution_count": null,
   "metadata": {
    "scrolled": false
   },
   "outputs": [],
   "source": [
    "from sklearn.svm import LinearSVC\n",
    "fig, subaxes = plt.subplots(1, 3, figsize=(8, 4))\n",
    "for this_C, subplot in zip([0.00001, 1.0, 100], subaxes):\n",
    "    clf = SVC(kernel = 'linear', C=this_C).fit(X_train, y_train)\n",
    "    title = 'Linear SVC, C = {:.5f}'.format(this_C)\n",
    "    plot_class_regions_for_classifier_subplot(clf, X_train, y_train,\n",
    "                                             None, None, title, subplot)"
   ]
  },
  {
   "cell_type": "code",
   "execution_count": null,
   "metadata": {},
   "outputs": [],
   "source": [
    "#Accuracy with varying C\n",
    "for this_C in [0.00001, 0.1, 1.0, 10, 20, 50, 100]:\n",
    "    clf = SVC(kernel = 'linear', C=this_C).fit(X_train, y_train)\n",
    "    print(\"Accuracy of Linear SVM with C = {:.5f}\".format(this_C),\"is \", clf.score(X_test,y_test))"
   ]
  },
  {
   "cell_type": "markdown",
   "metadata": {},
   "source": [
    "### Splitting Dataset to Training and Testing"
   ]
  },
  {
   "cell_type": "code",
   "execution_count": null,
   "metadata": {},
   "outputs": [],
   "source": [
    "# filling missing values with the median\n",
    "cl['age'] = cl['age'].fillna(cl['age'].median())\n",
    "cl['fare'] = cl['fare'].fillna(cl['fare'].median())\n",
    "cl['embarked'] = cl['embarked'].fillna(cl['embarked'].median())\n",
    "\n",
    "#independent variables\n",
    "X_2 = cl[['pclass', 'sex','age','sibsp', 'parch', 'fare', 'embarked']].as_matrix()\n",
    "#dependent variables\n",
    "y_2 = cl['survived']\n",
    "\n",
    "#Splitting of data to training and testing\n",
    "X_train2, X_test2, y_train2, y_test2 = train_test_split(X_2, y_2, random_state = 0)"
   ]
  },
  {
   "cell_type": "code",
   "execution_count": null,
   "metadata": {},
   "outputs": [],
   "source": [
    "# Fitting of training data to Linear SVM\n",
    "\n",
    "clf2 = SVC(kernel = 'linear', C=1.0).fit(X_train2, y_train2)\n",
    "\n",
    "print('Accuracy of Linear SVC classifier on training set: {:.2f}'\n",
    "     .format(clf2.score(X_train2, y_train2)))\n",
    "print('Accuracy of Linear SVC classifier on test set: {:.2f}'\n",
    "     .format(clf2.score(X_test2, y_test2)))"
   ]
  },
  {
   "cell_type": "code",
   "execution_count": null,
   "metadata": {},
   "outputs": [],
   "source": [
    "# Fitting of training data to RBF SVM with C = 1.0\n",
    "\n",
    "clf3 = SVC(kernel = 'rbf', C=1.0).fit(X_train2, y_train2)\n",
    "\n",
    "print('Accuracy of Linear SVC classifier on training set: {:.2f}'\n",
    "     .format(clf3.score(X_train2, y_train2)))\n",
    "print('Accuracy of Linear SVC classifier on test set: {:.2f}'\n",
    "     .format(clf3.score(X_test2, y_test2)))"
   ]
  },
  {
   "cell_type": "code",
   "execution_count": null,
   "metadata": {},
   "outputs": [],
   "source": [
    "# Fitting of training data to Polynomial SVM with C = 1.0\n",
    "\n",
    "clf4 = SVC(kernel = 'poly', degree = 3).fit(X_train2, y_train2)\n",
    "\n",
    "print('Accuracy of Linear SVC classifier on training set: {:.2f}'\n",
    "     .format(clf4.score(X_train2, y_train2)))\n",
    "print('Accuracy of Linear SVC classifier on test set: {:.2f}'\n",
    "     .format(clf4.score(X_test2, y_test2)))"
   ]
  },
  {
   "cell_type": "code",
   "execution_count": null,
   "metadata": {},
   "outputs": [],
   "source": [
    "# Linear SVM C = 1.0\n",
    "clf2 = SVC(kernel = 'linear', C=1.0).fit(X_train2, y_train2)\n",
    "\n",
    "#RBF C = 1.0\n",
    "clf3 = SVC(kernel = 'rbf', C=1.0).fit(X_train2, y_train2)\n",
    "\n",
    "#Polynomial Degree = 3\n",
    "clf4 = SVC(kernel = 'poly', degree = 3).fit(X_train2, y_train2)"
   ]
  },
  {
   "cell_type": "code",
   "execution_count": null,
   "metadata": {},
   "outputs": [],
   "source": [
    "sample_data = pd.DataFrame([{'pclass': 1, 'sex': 0,'age': 29,'sibsp': 0, 'parch': 0, 'fare': 211.3375, 'embarked': 1}])"
   ]
  },
  {
   "cell_type": "code",
   "execution_count": null,
   "metadata": {},
   "outputs": [],
   "source": [
    "clf2.predict(sample_data)"
   ]
  },
  {
   "cell_type": "code",
   "execution_count": null,
   "metadata": {},
   "outputs": [],
   "source": [
    "clf3.predict(sample_data)"
   ]
  },
  {
   "cell_type": "code",
   "execution_count": null,
   "metadata": {},
   "outputs": [],
   "source": [
    "clf4.predict(sample_data)"
   ]
  }
 ],
 "metadata": {
  "kernelspec": {
   "display_name": "Python 3",
   "language": "python",
   "name": "python3"
  },
  "language_info": {
   "codemirror_mode": {
    "name": "ipython",
    "version": 3
   },
   "file_extension": ".py",
   "mimetype": "text/x-python",
   "name": "python",
   "nbconvert_exporter": "python",
   "pygments_lexer": "ipython3",
   "version": "3.6.4"
  }
 },
 "nbformat": 4,
 "nbformat_minor": 2
}
